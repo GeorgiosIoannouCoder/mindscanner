version https://git-lfs.github.com/spec/v1
oid sha256:3ad98cdb3c0df51de25c7a9e7a1f537a7b368da1d5bcce7c20dc71581c44e842
size 245817461
